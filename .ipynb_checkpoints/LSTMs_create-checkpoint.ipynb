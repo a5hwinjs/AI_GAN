{
 "cells": [
  {
   "cell_type": "code",
   "execution_count": 1,
   "metadata": {
    "colab": {},
    "colab_type": "code",
    "id": "zdOMprVxmSL_"
   },
   "outputs": [
    {
     "name": "stderr",
     "output_type": "stream",
     "text": [
      "Using TensorFlow backend.\n"
     ]
    }
   ],
   "source": [
    "import tensorflow as tf\n",
    "import numpy as np\n",
    "from keras.models import Sequential\n",
    "from keras.layers import Dense,LSTM,Dropout\n",
    "from keras.layers.wrappers import TimeDistributed\n",
    "import pandas as pd"
   ]
  },
  {
   "cell_type": "code",
   "execution_count": 0,
   "metadata": {
    "colab": {},
    "colab_type": "code",
    "id": "Hqb9LnRIqkMv"
   },
   "outputs": [],
   "source": [
    "def dimX(x,ts):\n",
    "    x=np.asarray(x)\n",
    "    newX=[]\n",
    "    for i, c in enumerate(x):\n",
    "        newX.append([])\n",
    "        for j in range(ts):\n",
    "            newX[i].append(c)\n",
    "    return np.array(newX)"
   ]
  },
  {
   "cell_type": "code",
   "execution_count": 0,
   "metadata": {
    "colab": {},
    "colab_type": "code",
    "id": "YqldqIyjqsWO"
   },
   "outputs": [],
   "source": [
    "def dimY(Y,ts):\n",
    "    temp = np.zeros((len(Y), ts, len(chars)), dtype=np.bool)\n",
    "    for i, c in enumerate(Y):\n",
    "        for j, s in enumerate(c):\n",
    "            #print i, j, s\n",
    "            temp[i, j, char_idx[s]] = 1\n",
    "    return np.array(temp)"
   ]
  },
  {
   "cell_type": "code",
   "execution_count": 0,
   "metadata": {
    "colab": {},
    "colab_type": "code",
    "id": "T9hcV3hbqzLM"
   },
   "outputs": [],
   "source": [
    "def prediction(preds):\n",
    "    y_pred=[]\n",
    "    for i,c in enumerate(preds):\n",
    "        y_pred.append([])\n",
    "        for j in c:\n",
    "            y_pred[i].append(np.argmax(j))\n",
    "    return np.array(y_pred)"
   ]
  },
  {
   "cell_type": "code",
   "execution_count": 0,
   "metadata": {
    "colab": {},
    "colab_type": "code",
    "id": "kQN21hnKq3SE"
   },
   "outputs": [],
   "source": [
    "def seq_txt(y_pred):\n",
    "    newY=[]\n",
    "    for i,c in enumerate(y_pred):\n",
    "        newY.append([])\n",
    "        for j in c:\n",
    "            newY[i].append(idx_char[j])\n",
    "    \n",
    "    return np.array(newY)"
   ]
  },
  {
   "cell_type": "code",
   "execution_count": 0,
   "metadata": {
    "colab": {},
    "colab_type": "code",
    "id": "Tl08m-w1q9jc"
   },
   "outputs": [],
   "source": [
    "def smiles_output(s):\n",
    "    smiles=np.array([])\n",
    "    for i in s:\n",
    "        j=''.join(str(k) for k in i)\n",
    "        smiles=np.append(smiles,j)\n",
    "    return smiles"
   ]
  },
  {
   "cell_type": "code",
   "execution_count": 2,
   "metadata": {
    "colab": {
     "base_uri": "https://localhost:8080/",
     "height": 421
    },
    "colab_type": "code",
    "executionInfo": {
     "elapsed": 946,
     "status": "error",
     "timestamp": 1567809951160,
     "user": {
      "displayName": "Gopikrishnan K",
      "photoUrl": "",
      "userId": "13828508752799351514"
     },
     "user_tz": -330
    },
    "id": "Fyq3BSTeq-Xh",
    "outputId": "c481cdfd-5a01-4141-98cf-8f01215c25b4"
   },
   "outputs": [],
   "source": [
    "import pandas as pd\n",
    "data = pd.read_csv('lig_data.csv')\n",
    "data=data.reindex(np.random.permutation(data.index))\n",
    "Y=data.SMILES\n"
   ]
  },
  {
   "cell_type": "code",
   "execution_count": 0,
   "metadata": {
    "colab": {},
    "colab_type": "code",
    "id": "sVJdMYXwvfx-"
   },
   "outputs": [],
   "source": [
    "Y.head()\n",
    "X=data.ix[:,1:7]\n",
    "X=X.values\n",
    "X=X.astype('int')\n",
    "type(X)"
   ]
  },
  {
   "cell_type": "code",
   "execution_count": 0,
   "metadata": {
    "colab": {},
    "colab_type": "code",
    "id": "WmJN644MrIEH"
   },
   "outputs": [],
   "source": [
    "maxY=Y.str.len().max()\n",
    "y=Y.str.ljust(maxY, fillchar='|')\n",
    "\n",
    "ts=y.str.len().max()"
   ]
  },
  {
   "cell_type": "code",
   "execution_count": 0,
   "metadata": {
    "colab": {},
    "colab_type": "code",
    "id": "f2Cq0xPIrOIb"
   },
   "outputs": [],
   "source": [
    "chars = sorted(list( set(\"\".join(y.values.flatten()))))\n",
    "print('total chars:', len(chars))\n",
    "char_idx= dict((c, i) for i, c in enumerate(chars))\n",
    "idx_char = dict((i, c) for i, c in enumerate(chars))"
   ]
  },
  {
   "cell_type": "code",
   "execution_count": 0,
   "metadata": {
    "colab": {},
    "colab_type": "code",
    "id": "MjJddTWArSax"
   },
   "outputs": [],
   "source": [
    "y_dash=dimY(y,ts)\n",
    "\n",
    "x_dash=dimX(X,ts)       \n",
    "\n",
    "   \n",
    "model = Sequential()\n",
    "model.add(TimeDistributed(Dense(x_dash.shape[2]), input_shape=(x_dash.shape[1],x_dash.shape[2])))\n",
    "model.add(LSTM(216, return_sequences=True))\n",
    "model.add(Dropout(0.3))\n",
    "model.add(LSTM(216, return_sequences=True))\n",
    "model.add(TimeDistributed(Dense(y_dash.shape[2], activation='softmax')))\n",
    "model.compile(loss='categorical_crossentropy', optimizer='adam')"
   ]
  },
  {
   "cell_type": "code",
   "execution_count": 0,
   "metadata": {
    "colab": {},
    "colab_type": "code",
    "id": "T43NXL1BrXEw"
   },
   "outputs": [],
   "source": [
    "print model.input_shape\n",
    "print model.output_shape"
   ]
  },
  {
   "cell_type": "code",
   "execution_count": 0,
   "metadata": {
    "colab": {},
    "colab_type": "code",
    "id": "Z7EMtKPzreUr"
   },
   "outputs": [],
   "source": [
    "model.fit(x_dash,y_dash, nb_epoch=20)"
   ]
  },
  {
   "cell_type": "code",
   "execution_count": 0,
   "metadata": {
    "colab": {},
    "colab_type": "code",
    "id": "xx2VGDP1rjz8"
   },
   "outputs": [],
   "source": [
    "x_pred=[[0,0,0,1,0,0],\n",
    "        [0,1,0,0,0,0],\n",
    "        [0,0,0,0,0,1]]\n",
    "x_pred=dimX(x_pred,ts)      \n",
    "preds=model.predict(x_pred)\n",
    "y_pred=prediction(preds)\n",
    "y_pred=seq_txt(y_pred)\n",
    "s=smiles_output(y_pred)\n",
    "print s"
   ]
  }
 ],
 "metadata": {
  "accelerator": "GPU",
  "colab": {
   "name": "LSTMs_create.ipynb",
   "provenance": [],
   "version": "0.3.2"
  },
  "kernelspec": {
   "display_name": "Python 3",
   "language": "python",
   "name": "python3"
  },
  "language_info": {
   "codemirror_mode": {
    "name": "ipython",
    "version": 3
   },
   "file_extension": ".py",
   "mimetype": "text/x-python",
   "name": "python",
   "nbconvert_exporter": "python",
   "pygments_lexer": "ipython3",
   "version": "3.6.8"
  }
 },
 "nbformat": 4,
 "nbformat_minor": 1
}
